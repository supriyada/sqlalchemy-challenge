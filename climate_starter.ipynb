{
 "cells": [
  {
   "cell_type": "code",
   "execution_count": null,
   "metadata": {},
   "outputs": [],
   "source": [
    "%matplotlib inline\n",
    "from matplotlib import style\n",
    "style.use('fivethirtyeight')\n",
    "import matplotlib.pyplot as plt"
   ]
  },
  {
   "cell_type": "code",
   "execution_count": null,
   "metadata": {},
   "outputs": [],
   "source": [
    "import numpy as np\n",
    "import pandas as pd\n",
    "import datetime as dt\n",
    "\n",
    "import matplotlib.pyplot as plt\n",
    "import matplotlib.dates as mdates\n",
    "\n",
    "from datetime import timedelta\n",
    "from dateutil.relativedelta import relativedelta\n",
    "from dateutil.parser import parse"
   ]
  },
  {
   "cell_type": "code",
   "execution_count": null,
   "metadata": {},
   "outputs": [],
   "source": [
    "from sqlalchemy.sql import label\n",
    "from sqlalchemy import *"
   ]
  },
  {
   "cell_type": "markdown",
   "metadata": {},
   "source": [
    "# Reflect Tables into SQLAlchemy ORM"
   ]
  },
  {
   "cell_type": "code",
   "execution_count": null,
   "metadata": {},
   "outputs": [],
   "source": [
    "# Python SQL toolkit and Object Relational Mapper\n",
    "import sqlalchemy\n",
    "from sqlalchemy.ext.automap import automap_base\n",
    "from sqlalchemy.orm import Session\n",
    "from sqlalchemy import create_engine, func"
   ]
  },
  {
   "cell_type": "code",
   "execution_count": null,
   "metadata": {},
   "outputs": [],
   "source": [
    "# create engine to hawaii.sqlite\n",
    "engine = create_engine(\"sqlite:///hawaii.sqlite\")"
   ]
  },
  {
   "cell_type": "code",
   "execution_count": null,
   "metadata": {},
   "outputs": [],
   "source": [
    "# reflect an existing database into a new model\n",
    "Base = automap_base()\n",
    "# reflect the tables\n",
    "Base.prepare(engine,reflect = True)"
   ]
  },
  {
   "cell_type": "code",
   "execution_count": null,
   "metadata": {},
   "outputs": [],
   "source": [
    "# View all of the classes that automap found\n",
    "Base.classes.keys()"
   ]
  },
  {
   "cell_type": "code",
   "execution_count": null,
   "metadata": {},
   "outputs": [],
   "source": [
    "# Save references to each table\n",
    "Measurement = Base.classes.measurement\n",
    "Station = Base.classes.station"
   ]
  },
  {
   "cell_type": "code",
   "execution_count": null,
   "metadata": {},
   "outputs": [],
   "source": [
    "# Create our session (link) from Python to the DB\n",
    "session = Session(engine)"
   ]
  },
  {
   "cell_type": "markdown",
   "metadata": {},
   "source": [
    "# Exploratory Precipitation Analysis"
   ]
  },
  {
   "cell_type": "code",
   "execution_count": null,
   "metadata": {},
   "outputs": [],
   "source": [
    "# Find the most recent date in the data set.\n",
    "recent_date = session.query(Measurement).order_by(Measurement.date.desc()).first()\n",
    "print(f\"The most recent date in the data set is: {recent_date.date}\")"
   ]
  },
  {
   "cell_type": "code",
   "execution_count": null,
   "metadata": {},
   "outputs": [],
   "source": [
    "# Design a query to retrieve the last 12 months of precipitation data and plot the results. \n",
    "# Starting from the most recent data point in the database. \n",
    "most_recent_date = parse(recent_date.date)\n",
    "# Calculate the date one year from the last date in data set.\n",
    "start_date = most_recent_date  + relativedelta(months=-12) - timedelta(days=1)\n",
    "\n",
    "# Perform a query to retrieve the data and precipitation scores\n",
    "query_result = session.query(Measurement.date,Measurement.prcp).\\\n",
    "                filter(Measurement.date.between(start_date,most_recent_date)).all()\n",
    "\n",
    "\n",
    "# Save the query results as a Pandas DataFrame and set the index to the date column\n",
    "df = pd.DataFrame(query_result, columns=['date', 'prcp'])\n",
    "df.set_index('date', inplace=True,)\n",
    "\n",
    "# Sort the dataframe by date\n",
    "df = df.sort_values([\"date\"])\n",
    "sorted_df = df.reset_index(drop=False)\n",
    "sorted_df.tail()\n"
   ]
  },
  {
   "cell_type": "code",
   "execution_count": null,
   "metadata": {},
   "outputs": [],
   "source": [
    "# Use Pandas Plotting with Matplotlib to plot the data\n",
    "x_axis = sorted_df.date\n",
    "y_axis = sorted_df.prcp\n",
    "\n",
    "fig, ax = plt.subplots(figsize=(20, 8))\n",
    "ax.bar(x_axis,y_axis, label = 'Precipitation')\n",
    "ax.set_xlabel(\"Date\")\n",
    "ax.set_ylabel(\"Inches\")\n",
    "ax.set_title(\"Last 12 months of Precipitation Data\")\n",
    "plt.legend(loc='best')\n",
    "\n",
    "ax.xaxis.set_major_locator(mdates.DayLocator(interval=30))\n",
    "plt.setp(ax.xaxis.get_majorticklabels(), rotation=45)\n",
    "\n",
    "plt.tight_layout()\n",
    "plt.savefig(\"Images/Precipitation.png\")\n",
    "plt.show()\n"
   ]
  },
  {
   "cell_type": "code",
   "execution_count": null,
   "metadata": {},
   "outputs": [],
   "source": [
    "# Use Pandas to calcualte the summary statistics for the precipitation data\n",
    "sorted_df.describe()"
   ]
  },
  {
   "cell_type": "markdown",
   "metadata": {},
   "source": [
    "# Exploratory Station Analysis"
   ]
  },
  {
   "cell_type": "code",
   "execution_count": null,
   "metadata": {},
   "outputs": [],
   "source": [
    "# Design a query to calculate the total number stations in the dataset\n",
    "station_count = session.query(Station).count()\n",
    "print(f\"The total number of stations in the dataset is: {station_count}\")"
   ]
  },
  {
   "cell_type": "code",
   "execution_count": null,
   "metadata": {},
   "outputs": [],
   "source": [
    "\n",
    "# Design a query to find the most active stations (i.e. what stations have the most rows?)\n",
    "# List the stations and the counts in descending order.\n",
    "active_station = session.query(Measurement.station, func.count().label(\"measurement_count\"))\\\n",
    "                                                        .group_by(Measurement.station)\\\n",
    "                                                        .order_by(desc(func.count())).first()\n",
    "\n",
    "print(f'The most active station is: {active_station.station}')"
   ]
  },
  {
   "cell_type": "code",
   "execution_count": null,
   "metadata": {},
   "outputs": [],
   "source": [
    "# Using the most active station id from the previous query, calculate the lowest, highest, and average temperature.\n",
    "most_active_station = active_station.station\n",
    "print(f'The most active station is: {most_active_station}')\n",
    "analyse_station = session.query(Measurement, \\\n",
    "                               func.min(Measurement.tobs).label(\"mini_temp\"),\\\n",
    "                                func.max(Measurement.tobs).label(\"max_temp\"),\\\n",
    "                                func.avg(Measurement.tobs).label(\"average_temp\")).filter(Measurement.station == most_active_station).all()\n",
    "for result in analyse_station:\n",
    "    print(f\"The lowest temperature recorded: {result.mini_temp}\")\n",
    "    print(f\"The highest temperature recorded: {result.max_temp}\")\n",
    "    print(f\"The average temperature recorded: {result.average_temp}\")\n"
   ]
  },
  {
   "cell_type": "code",
   "execution_count": null,
   "metadata": {},
   "outputs": [],
   "source": [
    "# Using the most active station id\n",
    "# Query the last 12 months of temperature observation data for this station and plot the results as a histogram\n",
    "active_station_tob = session.query(Measurement.tobs).\\\n",
    "                filter(Measurement.date.between(start_date,most_recent_date)).\\\n",
    "                filter(Measurement.station == most_active_station).all()\n",
    "\n",
    "print(active_station_tob)"
   ]
  },
  {
   "cell_type": "code",
   "execution_count": null,
   "metadata": {},
   "outputs": [],
   "source": [
    "hist_df = pd.DataFrame(active_station_tob, columns=['tobs'])\n",
    "#hist_df.head(10)\n",
    "\n",
    "temp_hist_plot = hist_df.hist(column = 'tobs',bins = 12, grid=True, xlabelsize = 12, ylabelsize = 12,\\\n",
    "        figsize=(12, 6),color = 'red',alpha = 0.55,legend = True)\n",
    "\n",
    "plt.title(f'Last 12 months of Temperature Observation Data:{most_active_station}',fontdict={'fontsize':18})\n",
    "plt.xlabel('Temperature',fontdict={'fontsize':15})\n",
    "plt.ylabel('Frequency',fontdict={'fontsize':15})\n",
    "plt.grid(axis = 'y',color='gray', linestyle='dashed')\n",
    "plt.grid(axis = 'x',color='gray', linestyle='dashed')\n",
    "\n",
    "plt.tight_layout()\n",
    "plt.savefig(\"Images/station_histogram.png\")\n",
    "plt.show()\n"
   ]
  },
  {
   "cell_type": "markdown",
   "metadata": {},
   "source": [
    "# Close session"
   ]
  },
  {
   "cell_type": "code",
   "execution_count": null,
   "metadata": {},
   "outputs": [],
   "source": [
    "# Close Session\n",
    "session.close()"
   ]
  },
  {
   "cell_type": "code",
   "execution_count": null,
   "metadata": {},
   "outputs": [],
   "source": []
  }
 ],
 "metadata": {
  "anaconda-cloud": {},
  "kernel_info": {
   "name": "python3"
  },
  "kernelspec": {
   "display_name": "Python 3",
   "language": "python",
   "name": "python3"
  },
  "language_info": {
   "codemirror_mode": {
    "name": "ipython",
    "version": 3
   },
   "file_extension": ".py",
   "mimetype": "text/x-python",
   "name": "python",
   "nbconvert_exporter": "python",
   "pygments_lexer": "ipython3",
   "version": "3.8.5"
  },
  "nteract": {
   "version": "0.12.3"
  },
  "varInspector": {
   "cols": {
    "lenName": 16,
    "lenType": 16,
    "lenVar": 40
   },
   "kernels_config": {
    "python": {
     "delete_cmd_postfix": "",
     "delete_cmd_prefix": "del ",
     "library": "var_list.py",
     "varRefreshCmd": "print(var_dic_list())"
    },
    "r": {
     "delete_cmd_postfix": ") ",
     "delete_cmd_prefix": "rm(",
     "library": "var_list.r",
     "varRefreshCmd": "cat(var_dic_list()) "
    }
   },
   "types_to_exclude": [
    "module",
    "function",
    "builtin_function_or_method",
    "instance",
    "_Feature"
   ],
   "window_display": false
  }
 },
 "nbformat": 4,
 "nbformat_minor": 2
}
